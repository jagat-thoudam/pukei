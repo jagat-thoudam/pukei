{
 "cells": [
  {
   "cell_type": "markdown",
   "id": "f495eee6-5712-42e6-9109-1f3994aec7b2",
   "metadata": {},
   "source": [
    "# Data Science Tools and Ecosystem"
   ]
  },
  {
   "cell_type": "markdown",
   "id": "6cd56986-1483-49a2-9ea4-d87c2cc34120",
   "metadata": {},
   "source": [
    "## Author\n",
    "Thoudam Jagat Singh"
   ]
  },
  {
   "cell_type": "markdown",
   "id": "788a8b6d-e06a-4b78-8a29-dea4a6041471",
   "metadata": {},
   "source": [
    "### In this notebook, Data Science Tools and Ecosystem are summarized."
   ]
  },
  {
   "cell_type": "markdown",
   "id": "112bceb1-3103-45f6-8b91-0a70846bd2d6",
   "metadata": {},
   "source": [
    "**Objectives:**\n",
    "- Python\n",
    "- SQL\n",
    "- R\n",
    "- Scala\n",
    "- Julia\n",
    "- Java"
   ]
  },
  {
   "cell_type": "markdown",
   "id": "09f02685-d402-4139-9cd6-4b633219f0ce",
   "metadata": {},
   "source": [
    "#### Some of the popular languages that Data Scientists use are:\n",
    "1. Python\n",
    "2. SQL\n",
    "3. R\n",
    "4. Scala\n",
    "5. Julia\n",
    "6. Java"
   ]
  },
  {
   "cell_type": "markdown",
   "id": "0269b72a-af5f-4144-a073-ac28ae34a224",
   "metadata": {},
   "source": [
    "#### Some of the commonly used libraries used by Data Scientists include:\n",
    "1. NumPy\n",
    "2. Pandas\n",
    "3. Matplotlib\n",
    "4.  Seaborn\n",
    "5.  Scikit-learn\n",
    "6.  TensorFlow, and\n",
    "7.  PyTorch. "
   ]
  },
  {
   "cell_type": "markdown",
   "id": "e11805cb-88be-4ad6-88e1-c87992435355",
   "metadata": {},
   "source": [
    "| Data Science Tools |\n",
    "|:------------------:|\n",
    "|Jupyter Notebook|\n",
    "|RStudio|\n",
    "|VS Code|\n",
    "|Apache Hadoop|\n",
    "|Apache Spark|\n",
    "|Apache Flink|\n",
    "\n"
   ]
  },
  {
   "cell_type": "markdown",
   "id": "901b6115-94c8-4d9b-86c0-1b7914725b03",
   "metadata": {},
   "source": [
    "### Below are a few examples of evaluating arithmetic expressions in Python"
   ]
  },
  {
   "cell_type": "code",
   "execution_count": 4,
   "id": "5f9a0d70-ad84-44f9-89da-9dbbc2f1c5e9",
   "metadata": {},
   "outputs": [
    {
     "data": {
      "text/plain": [
       "17"
      ]
     },
     "execution_count": 4,
     "metadata": {},
     "output_type": "execute_result"
    }
   ],
   "source": [
    "# This a simple arithmetic expression to mutiply then add integers\n",
    "(3*4)+5"
   ]
  },
  {
   "cell_type": "code",
   "execution_count": 6,
   "id": "2185ad76-eccf-4c0d-af50-c0bb16fe46d6",
   "metadata": {},
   "outputs": [
    {
     "name": "stdout",
     "output_type": "stream",
     "text": [
      "3.3333333333333335\n"
     ]
    }
   ],
   "source": [
    "# This will convert 200 minutes to hours by dividing by 60.\n",
    "Hours = 200/60\n",
    "print (Hours)"
   ]
  },
  {
   "cell_type": "code",
   "execution_count": null,
   "id": "a7bf0cc1-b94a-40af-a1c2-9f02a6c51f49",
   "metadata": {},
   "outputs": [],
   "source": []
  }
 ],
 "metadata": {
  "kernelspec": {
   "display_name": "Python 3 (ipykernel)",
   "language": "python",
   "name": "python3"
  },
  "language_info": {
   "codemirror_mode": {
    "name": "ipython",
    "version": 3
   },
   "file_extension": ".py",
   "mimetype": "text/x-python",
   "name": "python",
   "nbconvert_exporter": "python",
   "pygments_lexer": "ipython3",
   "version": "3.12.7"
  }
 },
 "nbformat": 4,
 "nbformat_minor": 5
}
